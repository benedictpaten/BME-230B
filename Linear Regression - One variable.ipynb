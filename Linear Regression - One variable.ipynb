{
 "cells": [
  {
   "cell_type": "markdown",
   "metadata": {},
   "source": [
    "## LINEAR REGRESSION - PART 1 (ONE VARIABLE)\n",
    "\n",
    "One variable linear regression is the simplest form of machine learning we can think of. The purpose of this practice is to learn the basics of different components about linear regression. \n",
    "#### DATASET http://archive.ics.uci.edu/ml/machine-learning-databases/breast-cancer-wisconsin/"
   ]
  },
  {
   "cell_type": "markdown",
   "metadata": {},
   "source": [
    "#### Wisconsin Breast Cancer Database\n",
    "Samples arrive periodically as Dr. Wolberg reports his clinical cases.\n",
    "\n",
    "1. Number of Instances: 699 (as of 15 July 1992)\n",
    "\n",
    "2. Number of Attributes: 10 plus the class attribute\n",
    "\n",
    "3. Attribute Information: (class attribute has been moved to last column)\n",
    "   Attribute                     Domain\n",
    "   1. Sample code number            id number\n",
    "   2. Clump Thickness               1 - 10\n",
    "   3. Uniformity of Cell Size       1 - 10\n",
    "   4. Uniformity of Cell Shape      1 - 10\n",
    "   5. Marginal Adhesion             1 - 10\n",
    "   6. Single Epithelial Cell Size   1 - 10\n",
    "   7. Bare Nuclei                   1 - 10\n",
    "   8. Bland Chromatin               1 - 10\n",
    "   9. Normal Nucleoli               1 - 10\n",
    "  10. Mitoses                       1 - 10\n",
    "  11. Class:                        (2 for benign, 4 for malignant)\n",
    "\n",
    "4. Missing attribute values: 16\n",
    "\n",
    "   There are 16 instances in Groups 1 to 6 that contain a single missing \n",
    "   (i.e., unavailable) attribute value, now denoted by \"?\".  \n",
    "\n",
    "5. Class distribution:\n",
    " \n",
    "   Benign: 458 (65.5%)\n",
    "   Malignant: 241 (34.5%)"
   ]
  },
  {
   "cell_type": "code",
   "execution_count": 735,
   "metadata": {},
   "outputs": [
    {
     "data": {
      "text/html": [
       "<div>\n",
       "<style>\n",
       "    .dataframe thead tr:only-child th {\n",
       "        text-align: right;\n",
       "    }\n",
       "\n",
       "    .dataframe thead th {\n",
       "        text-align: left;\n",
       "    }\n",
       "\n",
       "    .dataframe tbody tr th {\n",
       "        vertical-align: top;\n",
       "    }\n",
       "</style>\n",
       "<table border=\"1\" class=\"dataframe\">\n",
       "  <thead>\n",
       "    <tr style=\"text-align: right;\">\n",
       "      <th></th>\n",
       "      <th>id</th>\n",
       "      <th>clump-thickness</th>\n",
       "      <th>uniformity-of-cell-size</th>\n",
       "      <th>uniformity-of-cell-shape</th>\n",
       "      <th>marginal-adhesion</th>\n",
       "      <th>single-epithelial-cell-size</th>\n",
       "      <th>bare-nuclei</th>\n",
       "      <th>bland-chromatin</th>\n",
       "      <th>normal-nucleoli</th>\n",
       "      <th>mitoses</th>\n",
       "      <th>class</th>\n",
       "    </tr>\n",
       "  </thead>\n",
       "  <tbody>\n",
       "    <tr>\n",
       "      <th>0</th>\n",
       "      <td>1000025</td>\n",
       "      <td>5</td>\n",
       "      <td>1</td>\n",
       "      <td>1</td>\n",
       "      <td>1</td>\n",
       "      <td>2</td>\n",
       "      <td>1</td>\n",
       "      <td>3</td>\n",
       "      <td>1</td>\n",
       "      <td>1</td>\n",
       "      <td>2</td>\n",
       "    </tr>\n",
       "    <tr>\n",
       "      <th>1</th>\n",
       "      <td>1002945</td>\n",
       "      <td>5</td>\n",
       "      <td>4</td>\n",
       "      <td>4</td>\n",
       "      <td>5</td>\n",
       "      <td>7</td>\n",
       "      <td>10</td>\n",
       "      <td>3</td>\n",
       "      <td>2</td>\n",
       "      <td>1</td>\n",
       "      <td>2</td>\n",
       "    </tr>\n",
       "    <tr>\n",
       "      <th>2</th>\n",
       "      <td>1015425</td>\n",
       "      <td>3</td>\n",
       "      <td>1</td>\n",
       "      <td>1</td>\n",
       "      <td>1</td>\n",
       "      <td>2</td>\n",
       "      <td>2</td>\n",
       "      <td>3</td>\n",
       "      <td>1</td>\n",
       "      <td>1</td>\n",
       "      <td>2</td>\n",
       "    </tr>\n",
       "  </tbody>\n",
       "</table>\n",
       "</div>"
      ],
      "text/plain": [
       "        id  clump-thickness  uniformity-of-cell-size  \\\n",
       "0  1000025                5                        1   \n",
       "1  1002945                5                        4   \n",
       "2  1015425                3                        1   \n",
       "\n",
       "   uniformity-of-cell-shape  marginal-adhesion  single-epithelial-cell-size  \\\n",
       "0                         1                  1                            2   \n",
       "1                         4                  5                            7   \n",
       "2                         1                  1                            2   \n",
       "\n",
       "  bare-nuclei  bland-chromatin  normal-nucleoli  mitoses  class  \n",
       "0           1                3                1        1      2  \n",
       "1          10                3                2        1      2  \n",
       "2           2                3                1        1      2  "
      ]
     },
     "execution_count": 735,
     "metadata": {},
     "output_type": "execute_result"
    }
   ],
   "source": [
    "import numpy as np\n",
    "import pandas as pd\n",
    "# Read input\n",
    "inputdata = pd.read_csv(\"./data/breast-cancer-wisconsin.data.csv\")\n",
    "inputdata.head(3)"
   ]
  },
  {
   "cell_type": "code",
   "execution_count": 736,
   "metadata": {},
   "outputs": [
    {
     "data": {
      "text/html": [
       "<div>\n",
       "<style>\n",
       "    .dataframe thead tr:only-child th {\n",
       "        text-align: right;\n",
       "    }\n",
       "\n",
       "    .dataframe thead th {\n",
       "        text-align: left;\n",
       "    }\n",
       "\n",
       "    .dataframe tbody tr th {\n",
       "        vertical-align: top;\n",
       "    }\n",
       "</style>\n",
       "<table border=\"1\" class=\"dataframe\">\n",
       "  <thead>\n",
       "    <tr style=\"text-align: right;\">\n",
       "      <th></th>\n",
       "      <th>id</th>\n",
       "      <th>clump-thickness</th>\n",
       "      <th>uniformity-of-cell-size</th>\n",
       "      <th>uniformity-of-cell-shape</th>\n",
       "      <th>marginal-adhesion</th>\n",
       "      <th>single-epithelial-cell-size</th>\n",
       "      <th>bare-nuclei</th>\n",
       "      <th>bland-chromatin</th>\n",
       "      <th>normal-nucleoli</th>\n",
       "      <th>mitoses</th>\n",
       "      <th>class</th>\n",
       "    </tr>\n",
       "  </thead>\n",
       "  <tbody>\n",
       "    <tr>\n",
       "      <th>0</th>\n",
       "      <td>172</td>\n",
       "      <td>4</td>\n",
       "      <td>0</td>\n",
       "      <td>0</td>\n",
       "      <td>0</td>\n",
       "      <td>1</td>\n",
       "      <td>0</td>\n",
       "      <td>2</td>\n",
       "      <td>0</td>\n",
       "      <td>0</td>\n",
       "      <td>0</td>\n",
       "    </tr>\n",
       "    <tr>\n",
       "      <th>1</th>\n",
       "      <td>175</td>\n",
       "      <td>4</td>\n",
       "      <td>3</td>\n",
       "      <td>3</td>\n",
       "      <td>4</td>\n",
       "      <td>6</td>\n",
       "      <td>1</td>\n",
       "      <td>2</td>\n",
       "      <td>1</td>\n",
       "      <td>0</td>\n",
       "      <td>0</td>\n",
       "    </tr>\n",
       "    <tr>\n",
       "      <th>2</th>\n",
       "      <td>176</td>\n",
       "      <td>2</td>\n",
       "      <td>0</td>\n",
       "      <td>0</td>\n",
       "      <td>0</td>\n",
       "      <td>1</td>\n",
       "      <td>2</td>\n",
       "      <td>2</td>\n",
       "      <td>0</td>\n",
       "      <td>0</td>\n",
       "      <td>0</td>\n",
       "    </tr>\n",
       "    <tr>\n",
       "      <th>3</th>\n",
       "      <td>177</td>\n",
       "      <td>5</td>\n",
       "      <td>7</td>\n",
       "      <td>7</td>\n",
       "      <td>0</td>\n",
       "      <td>2</td>\n",
       "      <td>4</td>\n",
       "      <td>2</td>\n",
       "      <td>6</td>\n",
       "      <td>0</td>\n",
       "      <td>0</td>\n",
       "    </tr>\n",
       "    <tr>\n",
       "      <th>4</th>\n",
       "      <td>179</td>\n",
       "      <td>3</td>\n",
       "      <td>0</td>\n",
       "      <td>0</td>\n",
       "      <td>2</td>\n",
       "      <td>1</td>\n",
       "      <td>0</td>\n",
       "      <td>2</td>\n",
       "      <td>0</td>\n",
       "      <td>0</td>\n",
       "      <td>0</td>\n",
       "    </tr>\n",
       "  </tbody>\n",
       "</table>\n",
       "</div>"
      ],
      "text/plain": [
       "    id  clump-thickness  uniformity-of-cell-size  uniformity-of-cell-shape  \\\n",
       "0  172                4                        0                         0   \n",
       "1  175                4                        3                         3   \n",
       "2  176                2                        0                         0   \n",
       "3  177                5                        7                         7   \n",
       "4  179                3                        0                         0   \n",
       "\n",
       "   marginal-adhesion  single-epithelial-cell-size  bare-nuclei  \\\n",
       "0                  0                            1            0   \n",
       "1                  4                            6            1   \n",
       "2                  0                            1            2   \n",
       "3                  0                            2            4   \n",
       "4                  2                            1            0   \n",
       "\n",
       "   bland-chromatin  normal-nucleoli  mitoses  class  \n",
       "0                2                0        0      0  \n",
       "1                2                1        0      0  \n",
       "2                2                0        0      0  \n",
       "3                2                6        0      0  \n",
       "4                2                0        0      0  "
      ]
     },
     "execution_count": 736,
     "metadata": {},
     "output_type": "execute_result"
    }
   ],
   "source": [
    "# Preprocess the data so we can use it for regression. Specially the class values.\n",
    "from sklearn import preprocessing\n",
    "encoder = preprocessing.LabelEncoder()\n",
    "\n",
    "for col in inputdata.columns:\n",
    "    inputdata[col] = encoder.fit_transform(inputdata[col])\n",
    "    \n",
    "inputdata.head(5)"
   ]
  },
  {
   "cell_type": "markdown",
   "metadata": {},
   "source": [
    "## Explain the algorithm mathematically then write these methods:\n",
    "\n",
    "#### Predict \n",
    "This method takes x, w, b and returns the value of y. <br/>\n",
    "\\begin{equation}\n",
    "y_i = w*x_i+b\n",
    "\\end{equation}"
   ]
  },
  {
   "cell_type": "code",
   "execution_count": 737,
   "metadata": {
    "collapsed": true
   },
   "outputs": [],
   "source": [
    "def predict(x, w, b):\n",
    "    return x*w + b"
   ]
  },
  {
   "cell_type": "markdown",
   "metadata": {},
   "source": [
    "#### Cost_function/loss_function/risk_function:\n",
    "The MSE is a measure of the quality of an estimator—it is always non-negative, and values closer to zero are better.\n",
    "We are using mean squared error. \n",
    "\\begin{equation}\n",
    "MSE = \\frac{1}{n} \\sum_{i=1}^n (y_i - (wx_i+b))^2\n",
    "\\end{equation}"
   ]
  },
  {
   "cell_type": "code",
   "execution_count": 738,
   "metadata": {
    "collapsed": true
   },
   "outputs": [],
   "source": [
    "def cost_function(x, y, w, b):\n",
    "    n = len(x)\n",
    "    total_error = 0.0\n",
    "    for i in range(n):\n",
    "        total_error += (y[i] - (w*x[i] + b))**2\n",
    "    return total_error / n"
   ]
  },
  {
   "cell_type": "markdown",
   "metadata": {},
   "source": [
    "#### Gradient descent\n",
    "To minimize MSE we use Gradient Descent to calculate the gradient of our cost function.\n",
    "There are two parameters (coefficients) in our cost function we can control: weight $w$ and bias $b$. Since we need to consider the impact each one has on the final prediction, we use partial derivatives.\n",
    "Recall the cost function:\n",
    "\\begin{equation}\n",
    "f(w,b)= \\frac{1}{n} \\sum_{i=1}^{n} (y_i - (wx_i+b))^2\n",
    "\\end{equation}\n",
    "First lets find the partial derivative for $w$:\n",
    "\\begin{equation}\n",
    "\\frac{\\partial f}{\\partial w} = \\frac{1}{n} \\sum_{i=1}^n -2x_i(y_i - (wx_i+b))\n",
    "\\end{equation}\n",
    "And the partial derivative for $b$:\n",
    "\\begin{equation}\n",
    "\\frac{\\partial f}{\\partial b} = \\frac{1}{n} \\sum_{i=1}^n -2(y_i - (wx_i+b))\n",
    "\\end{equation}\n"
   ]
  },
  {
   "cell_type": "code",
   "execution_count": 739,
   "metadata": {
    "collapsed": true
   },
   "outputs": [],
   "source": [
    "def update_weights(x, y, w, b, learning_rate):\n",
    "    weight_deriv = 0\n",
    "    bias_deriv = 0\n",
    "    n = len(x)\n",
    "\n",
    "    for i in range(n):\n",
    "        # Calculate partial derivatives\n",
    "        # -2x(y - (mx + b))\n",
    "        weight_deriv += -2*x[i] * (y[i] - (w*x[i] + b))\n",
    "\n",
    "        # -2(y - (mx + b))\n",
    "        bias_deriv += -2*(y[i] - (w*x[i] + b))\n",
    "\n",
    "    # We subtract because the derivatives point in direction of steepest ascent\n",
    "    w -= (weight_deriv / n) * learning_rate\n",
    "    b -= (bias_deriv / n) * learning_rate\n",
    "\n",
    "    return w, b"
   ]
  },
  {
   "cell_type": "markdown",
   "metadata": {},
   "source": [
    "#### Train loop\n",
    "\n",
    "Train the model. Things to cover:\n",
    "1. Parameter vs hyperparameter\n",
    "2. Learning rate: possibly l1 and l2 regularization\n",
    "3. Number of iterrations also popularly known as epochs"
   ]
  },
  {
   "cell_type": "code",
   "execution_count": 740,
   "metadata": {},
   "outputs": [],
   "source": [
    "def train_model(x, y, w, b, learning_rate, epochs):\n",
    "    cost_history = []\n",
    "\n",
    "    for i in range(epochs):\n",
    "        w,b = update_weights(x, y, w, b, learning_rate)\n",
    "\n",
    "        #Calculate cost for auditing purposes\n",
    "        cost = cost_function(x, y, w, b)\n",
    "        cost_history.append(cost)\n",
    "\n",
    "        # Log Progress\n",
    "        if (i+1) % 20 == 0:\n",
    "            print(\"Epochs: \", str(i+1), \" cost: \",  str(cost))\n",
    "\n",
    "    return w, b, cost_history"
   ]
  },
  {
   "cell_type": "markdown",
   "metadata": {},
   "source": [
    "#### Run the training\n",
    "Pick a parameter! Possibly mitoses as it's the worst one. Make them focus on the weight and bias values we get!\n"
   ]
  },
  {
   "cell_type": "code",
   "execution_count": 741,
   "metadata": {},
   "outputs": [
    {
     "name": "stdout",
     "output_type": "stream",
     "text": [
      "Epochs:  20  cost:  0.195825832999\n",
      "Epochs:  40  cost:  0.186797887359\n",
      "Epochs:  60  cost:  0.184661770169\n",
      "Epochs:  80  cost:  0.184123067902\n",
      "Epochs:  100  cost:  0.183987035403\n",
      "Epochs:  120  cost:  0.183952683729\n",
      "Epochs:  140  cost:  0.183944009051\n",
      "Epochs:  160  cost:  0.183941818473\n",
      "Epochs:  180  cost:  0.183941265295\n",
      "Epochs:  200  cost:  0.183941125604\n",
      "Epochs:  220  cost:  0.183941090328\n",
      "Epochs:  240  cost:  0.18394108142\n",
      "Epochs:  260  cost:  0.183941079171\n",
      "Epochs:  280  cost:  0.183941078603\n",
      "Epochs:  300  cost:  0.183941078459\n",
      "Epochs:  320  cost:  0.183941078423\n",
      "Epochs:  340  cost:  0.183941078414\n",
      "Epochs:  360  cost:  0.183941078412\n",
      "Epochs:  380  cost:  0.183941078411\n",
      "Epochs:  400  cost:  0.183941078411\n",
      "Epochs:  420  cost:  0.183941078411\n",
      "Epochs:  440  cost:  0.183941078411\n",
      "Epochs:  460  cost:  0.183941078411\n",
      "Epochs:  480  cost:  0.183941078411\n",
      "Epochs:  500  cost:  0.183941078411\n",
      "0.126559013642 0.272717465144\n"
     ]
    }
   ],
   "source": [
    "x = inputdata['mitoses']\n",
    "y = inputdata['class']\n",
    "w, b, cost_history = train_model(x, y, 0, 0, 0.02, 500)\n",
    "print(w, b)"
   ]
  },
  {
   "cell_type": "markdown",
   "metadata": {},
   "source": [
    "#### Predictive separation index (PSI) as score\n",
    "We can use Predictive Separation Index (PSI), to use as the strength of a predictor. The equation is:\n",
    "\\begin{equation}\n",
    "PSI ( x ) = [ \\textrm{mean } ( \\hat{ p } \\textrm{ given } x ) \\textrm{ when } y = 1 ] - [ \\textrm{mean } ( \\hat{ p } \\textrm{ given } x ) \\textrm{ when } y = 0 ] \\, .\n",
    "\\end{equation}\n",
    "We want PSI(x) very close to 1 as the first term should be close to 1 and the second term should be close to 0."
   ]
  },
  {
   "cell_type": "code",
   "execution_count": 742,
   "metadata": {},
   "outputs": [],
   "source": [
    "def get_score(x, y, w, b):\n",
    "    preds_0 = []\n",
    "    preds_1 = []\n",
    "    for i in range(len(x)):\n",
    "        p = predict(x[i], w, b)\n",
    "        if y[i] == 0:\n",
    "            preds_0.append(p)\n",
    "        else:\n",
    "            preds_1.append(p)\n",
    "    score = (sum(preds_1) / len(preds_1) - sum(preds_0) / len(preds_0))\n",
    "    return preds_0, preds_1, score"
   ]
  },
  {
   "cell_type": "code",
   "execution_count": 743,
   "metadata": {},
   "outputs": [
    {
     "name": "stdout",
     "output_type": "stream",
     "text": [
      "PSI:  0.18576351698\n"
     ]
    }
   ],
   "source": [
    "preds_0, preds_1, score = get_score(x, y, w, b)\n",
    "print(\"PSI: \", score)"
   ]
  },
  {
   "cell_type": "markdown",
   "metadata": {},
   "source": [
    "### The $\\hat{p}$ distribution plot\n",
    "\n",
    "A better way to look at our prediction is to look at the distribution of $\\hat{p}$ we get for each of the classes. For $y_i = 0$ the $\\hat{p}$ should be close to 0 and $\\hat{p}$ should be close to 1 when $y_i = 1$. This is a better way of seeing the strength of a predictor."
   ]
  },
  {
   "cell_type": "code",
   "execution_count": 744,
   "metadata": {},
   "outputs": [
    {
     "data": {
      "image/png": "[encoded data removed]",
      "text/plain": [
       "<matplotlib.figure.Figure at 0x11213af98>"
      ]
     },
     "metadata": {},
     "output_type": "display_data"
    },
    {
     "data": {
      "image/png": "[encoded data removed]",
      "text/plain": [
       "<matplotlib.figure.Figure at 0x1129b5dd8>"
      ]
     },
     "metadata": {},
     "output_type": "display_data"
    }
   ],
   "source": [
    "import matplotlib.pyplot as plt\n",
    "n, bins, patches = plt.hist(preds_0, bins=100, normed=1, cumulative=0)\n",
    "plt.title('Predictive distribution for class y=0')\n",
    "plt.show()\n",
    "n, bins, patches = plt.hist(preds_1, bins=100, normed=1, cumulative=0)\n",
    "plt.title('Predictive distribution for class y=1')\n",
    "plt.show()"
   ]
  },
  {
   "cell_type": "markdown",
   "metadata": {},
   "source": [
    "## Use a library to do the same thing! - SKLEARN\n",
    "If we use sklearn to do the same thing, we will get the same exact values! Voilà! Things to make sure:\n",
    "1) Sklearn linear regression parameters: fit_intercept, normalize, copy_X, n_jobs\n",
    "    a) fit: Fit linear model. [Our train loop]\n",
    "    b) predict: Predict using the linear model. [Our predict method]\n",
    "    c) score: Returns the coefficient of determination $R^2$ of the prediction. <br/>\n",
    "    \n",
    "##### The R squared score:\n",
    "R squared measures the proportion of overall variation of y variable that have been explained by the prediction. The equation for R squared is:\n",
    " \\begin{align*}\n",
    " R^2 = 1 - \\frac{\\sum_{i=1}^n (y_i-\\hat{y_i})^2}{\\sum_{i=1}^n (y_i-\\bar{y})^2}\n",
    " \\end{align*}\n",
    " Here, $y_i$ is the label, $\\hat{y_i}$ is the prediction and $\\bar{y}$ is the average label. The error is normalized by the deviance and we get how well the regression no matter the deviation in the dataset. For a dichotomous classification this $R^2$ is same as predictive separation index but for continuous outcome it will be different.\n"
   ]
  },
  {
   "cell_type": "code",
   "execution_count": 745,
   "metadata": {},
   "outputs": [
    {
     "name": "stdout",
     "output_type": "stream",
     "text": [
      "sklearn, w, b, score:  0.126559 0.272717 0.185764\n",
      "manualr, w, b, score:  0.126559 0.272717 0.185764\n"
     ]
    }
   ],
   "source": [
    "x = inputdata[['mitoses']]\n",
    "y = inputdata['class']\n",
    "from sklearn import datasets, linear_model\n",
    "lm_model = linear_model.LinearRegression(fit_intercept=True, normalize=True, copy_X=True, n_jobs=1)\n",
    "lm_model.fit(x, y)\n",
    "print(\"sklearn, w, b, score: \", round(lm_model.coef_[0], 6), round(lm_model.intercept_, 6), round(lm_model.score(x,y), 6))\n",
    "print(\"manualr, w, b, score: \", round(w, 6) , round(b, 6), round(score, 6))\n",
    "# So, we have learned the same co-efficents (or, almost the same) through a library."
   ]
  },
  {
   "cell_type": "markdown",
   "metadata": {},
   "source": [
    "#### Variable selection\n",
    "Now loop through each of the feature/variable present in the dataset (except id and class) and fit the model to get a score. Sort features based on their score/R-squared-value the top variables are best predictors. <br/>\n",
    "\n",
    "A better approach would be: <br/>\n",
    "1) Make sure all the features are in same scale. <br/>\n",
    "2) Use better algorithm like step wise criterion function (ex. bayesian information criterion) or xgBoost which is supposedly one of the best available algorithm for feature selection. <br/>\n",
    "\n",
    "xgBoost: http://xgboost.readthedocs.io/en/latest/python/python_intro.html\n",
    "\n",
    "But this works pretty well too! We'll see!"
   ]
  },
  {
   "cell_type": "code",
   "execution_count": 746,
   "metadata": {},
   "outputs": [
    {
     "name": "stdout",
     "output_type": "stream",
     "text": [
      "['uniformity-of-cell-shape', 0.67065246956128566]\n",
      "['uniformity-of-cell-size', 0.66896652023005876]\n",
      "['bland-chromatin', 0.5724679929612666]\n",
      "['clump-thickness', 0.51265795054826835]\n",
      "['normal-nucleoli', 0.50729097711546645]\n",
      "['marginal-adhesion', 0.4855305274798587]\n",
      "['single-epithelial-cell-size', 0.46619471453550132]\n",
      "['mitoses', 0.18576351399204383]\n",
      "['bare-nuclei', 0.15365305810688346]\n"
     ]
    }
   ],
   "source": [
    "features = list(inputdata.keys())\n",
    "features.remove('id')\n",
    "features.remove('class')\n",
    "\n",
    "feature_scores = []\n",
    "\n",
    "for feature in features:\n",
    "    x = inputdata[[feature]]\n",
    "    y = inputdata['class']\n",
    "    lm_model = linear_model.LinearRegression(fit_intercept=True, normalize=True, copy_X=True, n_jobs=1)\n",
    "    lm_model.fit(x, y)\n",
    "    feature_scores.append([feature, lm_model.score(x,y)])\n",
    "\n",
    "feature_scores.sort(key=lambda x: x[1], reverse=True)\n",
    "for feature_score in feature_scores:\n",
    "    print(feature_score)"
   ]
  },
  {
   "cell_type": "markdown",
   "metadata": {},
   "source": [
    "#### Pick the top two predictors\n",
    "\n",
    "Pick the top two predictors and fit the model. The score will be better this time."
   ]
  },
  {
   "cell_type": "code",
   "execution_count": 747,
   "metadata": {},
   "outputs": [
    {
     "name": "stdout",
     "output_type": "stream",
     "text": [
      "Score:  0.702523482374\n"
     ]
    }
   ],
   "source": [
    "x = inputdata[['uniformity-of-cell-shape','uniformity-of-cell-size']]\n",
    "y = inputdata['class']\n",
    "lm_model = linear_model.LinearRegression(fit_intercept=True, normalize=True, copy_X=True, n_jobs=1)\n",
    "lm_model.fit(x, y)\n",
    "print(\"Score: \", lm_model.score(x,y))"
   ]
  },
  {
   "cell_type": "markdown",
   "metadata": {},
   "source": [
    "#### Pick a cutoff\n",
    "\n",
    "Now look at the distribution again and pick a cutoff. Everything below the cutoff will be 0 and above will be 1. "
   ]
  },
  {
   "cell_type": "code",
   "execution_count": 748,
   "metadata": {
    "scrolled": false
   },
   "outputs": [
    {
     "data": {
      "image/png": "[encoded data removed]",
      "text/plain": [
       "<matplotlib.figure.Figure at 0x10c48c2e8>"
      ]
     },
     "metadata": {},
     "output_type": "display_data"
    },
    {
     "data": {
      "image/png": "[encoded data removed]",
      "text/plain": [
       "<matplotlib.figure.Figure at 0x11018f7b8>"
      ]
     },
     "metadata": {},
     "output_type": "display_data"
    }
   ],
   "source": [
    "input_0 = inputdata.loc[inputdata['class'] == 0]\n",
    "y_0 = input_0['class']\n",
    "x_0 = input_0[['uniformity-of-cell-shape','uniformity-of-cell-size']]\n",
    "\n",
    "input_1 = inputdata.loc[inputdata['class'] == 1]\n",
    "y_1 = input_1['class']\n",
    "x_1 = input_1[['uniformity-of-cell-shape','uniformity-of-cell-size']]\n",
    "preds_0 = lm_model.predict(x_0)\n",
    "preds_1 = lm_model.predict(x_1)\n",
    "n, bins, patches = plt.hist(preds_0, bins=50, normed=1, cumulative=0)\n",
    "plt.show()\n",
    "n, bins, patches = plt.hist(preds_1, bins=50, normed=1, cumulative=0)\n",
    "plt.show()"
   ]
  },
  {
   "cell_type": "markdown",
   "metadata": {},
   "source": [
    "#### Accuracy\n",
    "Looks like 0.2 is a good cutoff? Let's pick that and look at the accuracy of the model"
   ]
  },
  {
   "cell_type": "code",
   "execution_count": 749,
   "metadata": {},
   "outputs": [
    {
     "data": {
      "text/plain": [
       "0.93133047210300424"
      ]
     },
     "execution_count": 749,
     "metadata": {},
     "output_type": "execute_result"
    }
   ],
   "source": [
    "y_pred = lm_model.predict(x)\n",
    "y_pred = [1 if p > 0.2 else 0 for p in y_pred]\n",
    "from sklearn.metrics import accuracy_score\n",
    "accuracy_score(y, y_pred)"
   ]
  },
  {
   "cell_type": "markdown",
   "metadata": {},
   "source": [
    "## Splitting the dataset\n",
    "But we can't trust these results! We trained and tested on the same data. This may overfit the data and give us an illusion of better fit. Let's split the dataset in 80-20 for training-testing and fit and test the model again."
   ]
  },
  {
   "cell_type": "code",
   "execution_count": 750,
   "metadata": {
    "collapsed": true
   },
   "outputs": [],
   "source": [
    "# split into train and test data\n",
    "from sklearn.model_selection import train_test_split\n",
    "\n",
    "(train,test) = train_test_split(inputdata, test_size=0.2)\n",
    "train_output = train['class']\n",
    "train_input = train[['uniformity-of-cell-shape','uniformity-of-cell-size']]\n",
    "\n",
    "test_output = test['class']\n",
    "test_input = test[['uniformity-of-cell-shape','uniformity-of-cell-size']]"
   ]
  },
  {
   "cell_type": "code",
   "execution_count": 751,
   "metadata": {},
   "outputs": [
    {
     "name": "stdout",
     "output_type": "stream",
     "text": [
      "Score:  0.687560966002\n"
     ]
    }
   ],
   "source": [
    "lm_model.fit(train_input, train_output)\n",
    "print(\"Score: \", lm_model.score(train_input, train_output))"
   ]
  },
  {
   "cell_type": "code",
   "execution_count": 752,
   "metadata": {},
   "outputs": [
    {
     "data": {
      "image/png": "[encoded data removed]",
      "text/plain": [
       "<matplotlib.figure.Figure at 0x111397240>"
      ]
     },
     "metadata": {},
     "output_type": "display_data"
    },
    {
     "data": {
      "image/png": "[encoded data removed]",
      "text/plain": [
       "<matplotlib.figure.Figure at 0x110322780>"
      ]
     },
     "metadata": {},
     "output_type": "display_data"
    }
   ],
   "source": [
    "input_0 = train.loc[train['class'] == 0]\n",
    "y_0 = input_0['class']\n",
    "x_0 = input_0[['uniformity-of-cell-shape','uniformity-of-cell-size']]\n",
    "\n",
    "input_1 = train.loc[train['class'] == 1]\n",
    "y_1 = input_1['class']\n",
    "x_1 = input_1[['uniformity-of-cell-shape','uniformity-of-cell-size']]\n",
    "preds_0 = lm_model.predict(x_0)\n",
    "preds_1 = lm_model.predict(x_1)\n",
    "n, bins, patches = plt.hist(preds_0, bins=50, normed=1, cumulative=0)\n",
    "plt.show()\n",
    "n, bins, patches = plt.hist(preds_1, bins=50, normed=1, cumulative=0)\n",
    "plt.show()"
   ]
  },
  {
   "cell_type": "code",
   "execution_count": 753,
   "metadata": {},
   "outputs": [
    {
     "data": {
      "text/plain": [
       "0.94285714285714284"
      ]
     },
     "execution_count": 753,
     "metadata": {},
     "output_type": "execute_result"
    }
   ],
   "source": [
    "y_pred = lm_model.predict(test_input)\n",
    "y_pred = [1 if p > 0.5 else 0 for p in y_pred]\n",
    "from sklearn.metrics import accuracy_score\n",
    "accuracy_score(test_output, y_pred)"
   ]
  },
  {
   "cell_type": "markdown",
   "metadata": {},
   "source": [
    "## Break the accuracy myth\n",
    "We see that we are getting decent accuracy. But accuracy in a model doesn't mean the model is useful. There are many other statistical tests that can help us understand the effectiveness of a model. Sensitivity, specificity are widely used. We are going to look at true positive rate and false positive rates as simplest statistical significance values of the model."
   ]
  },
  {
   "cell_type": "code",
   "execution_count": 754,
   "metadata": {},
   "outputs": [
    {
     "name": "stdout",
     "output_type": "stream",
     "text": [
      "[[98  1]\n",
      " [ 7 34]]\n",
      "False positive rate: (predicting malignant while benign) 0.010101010101\n",
      "False negative rate: (predicting benign while malignant) 0.170731707317\n"
     ]
    }
   ],
   "source": [
    "from sklearn.metrics import confusion_matrix\n",
    "print(confusion_matrix(test_output, y_pred))\n",
    "tn, fp, fn, tp = confusion_matrix(test_output, y_pred).ravel()\n",
    "fpr = fp / (fp+tn)\n",
    "fnr = fn / (tp+fn)\n",
    "print(\"False positive rate: (predicting malignant while benign)\", fpr)\n",
    "print(\"False negative rate: (predicting benign while malignant)\", fnr)"
   ]
  },
  {
   "cell_type": "markdown",
   "metadata": {},
   "source": [
    "## Which case is the worst?\n",
    "Think about this model in action. It has a very low false positive rate but a high false negative rate. False negative results in real world is very dangerous in our case. On the other hand, false positive results will cause a lot of chaos. But, if we have to make a decision, which is the best one?"
   ]
  },
  {
   "cell_type": "code",
   "execution_count": 755,
   "metadata": {},
   "outputs": [
    {
     "name": "stdout",
     "output_type": "stream",
     "text": [
      "Accuracy 0.792857142857\n",
      "[[71 28]\n",
      " [ 1 40]]\n",
      "False positive rate: (predicting malignant while benign) 0.282828282828\n",
      "False negative rate: (predicting benign while malignant) 0.0243902439024\n"
     ]
    }
   ],
   "source": [
    "y_pred = lm_model.predict(test_input)\n",
    "y_pred = [1 if p > 0.1 else 0 for p in y_pred]\n",
    "\n",
    "print(\"Accuracy\", accuracy_score(test_output, y_pred))\n",
    "\n",
    "print(confusion_matrix(test_output, y_pred))\n",
    "tn, fp, fn, tp = confusion_matrix(test_output, y_pred).ravel()\n",
    "fpr = fp / (fp+tn)\n",
    "fnr = fn / (tp+fn)\n",
    "print(\"False positive rate: (predicting malignant while benign)\", fpr)\n",
    "print(\"False negative rate: (predicting benign while malignant)\", fnr)"
   ]
  }
 ],
 "metadata": {
  "kernelspec": {
   "display_name": "Python 3",
   "language": "python",
   "name": "python3"
  },
  "language_info": {
   "codemirror_mode": {
    "name": "ipython",
    "version": 3
   },
   "file_extension": ".py",
   "mimetype": "text/x-python",
   "name": "python",
   "nbconvert_exporter": "python",
   "pygments_lexer": "ipython3",
   "version": "3.5.4"
  }
 },
 "nbformat": 4,
 "nbformat_minor": 2
}
